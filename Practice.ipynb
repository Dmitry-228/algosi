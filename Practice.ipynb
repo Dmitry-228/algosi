{
 "cells": [
  {
   "cell_type": "markdown",
   "metadata": {},
   "source": [
    "# Список задач по дисциплине \"Алгоритмы, программирование и структуры данных\" для групп К0709-22"
   ]
  },
  {
   "cell_type": "markdown",
   "metadata": {},
   "source": [
    "1. Даны два числа `a` и `b` в десятичной системе счисления и основание некоторой системы счисления `c`. Найдите сумму этих чисел в системе счисления `c`. Результат представить в виде списка."
   ]
  },
  {
   "cell_type": "code",
   "execution_count": 36,
   "metadata": {},
   "outputs": [
    {
     "name": "stdout",
     "output_type": "stream",
     "text": [
      "[1, 0, 0, 1, 1, 1, 1, 1]\n"
     ]
    }
   ],
   "source": [
    "def sum(a, b, c):\n",
    "    res = [] \n",
    "    carry = 0 \n",
    "    while a or b or carry:\n",
    "        d1 = a % c\n",
    "        d2 = b % c \n",
    "        a //= c\n",
    "        b //= c\n",
    "\n",
    "        s = d1+d2+carry\n",
    "        carry = s // c\n",
    "        s %= c\n",
    "        res.append(s)\n",
    "    return res[::-1] \n",
    "\n",
    "print(sum(125, 34, 2))"
   ]
  },
  {
   "cell_type": "markdown",
   "metadata": {},
   "source": [
    "2. Даны два числа `a` и `b`, представленные в виде строк. Найдите произведение этих чисел и верните его в виде строки."
   ]
  },
  {
   "cell_type": "code",
   "execution_count": 37,
   "metadata": {},
   "outputs": [
    {
     "name": "stdout",
     "output_type": "stream",
     "text": [
      "[2, 1, 9, 6, 0, 0]\n"
     ]
    }
   ],
   "source": [
    "# ejudge: https://informatics.msk.ru/mod/statements/view.php?id=59952&chapterid=136#1\n",
    "def sum(a, b):\n",
    "    c = 10 \n",
    "    res = [] \n",
    "    if len(a) > len(b):\n",
    "        a, b = b, a \n",
    "    n = len(b)\n",
    "    a = [0]*(n-len(a)) + a\n",
    "\n",
    "    res = [0]*n\n",
    "    carry = 0 \n",
    "    for i in range(n-1, -1, -1):\n",
    "        res[i] = a[i]+b[i]+carry\n",
    "        carry = res[i] // c\n",
    "        res[i] %= c\n",
    "    if carry:\n",
    "        res = [carry]+res\n",
    "    return res\n",
    "\n",
    "def mul(a, k):\n",
    "    c = 10\n",
    "    res = [0]*len(a)\n",
    "    carry = 0 \n",
    "    for i in range(len(a)-1, -1, -1):\n",
    "        res[i] = a[i]*k+carry\n",
    "        carry = res[i] // c \n",
    "        res[i] %= c\n",
    "    if carry: \n",
    "        res = [carry]+res \n",
    "    return res\n",
    "\n",
    "def product(a, b):\n",
    "    a = list(map(int, a))\n",
    "    b = list(map(int, b))\n",
    "    if len(a) > len(b):\n",
    "        a, b = b, a\n",
    "    n = len(b)\n",
    "    a = [0]*(n-len(a)) + a\n",
    "\n",
    "    res = [] \n",
    "    power = 0\n",
    "    for i in range(n-1, -1, -1):\n",
    "        res = sum(res, mul(a, b[i]) + [0]*power)\n",
    "        power += 1\n",
    "    for first_dig in range(len(res)):\n",
    "        if res[first_dig] != 0:\n",
    "            break\n",
    "    return res[first_dig:]\n",
    "\n",
    "print(product('1464', '150'))\n",
    "\n",
    "# a = input() \n",
    "# b = input() \n",
    "# print(''.join(map(str, p(list(map(int, a)), int(b)))))\n",
    "# print(''.join(map(str, product(a, b))))"
   ]
  },
  {
   "cell_type": "markdown",
   "metadata": {},
   "source": [
    "3. Реализуйте алгоритм быстрого возведения числа `a` в степень `b`. "
   ]
  },
  {
   "cell_type": "code",
   "execution_count": 38,
   "metadata": {},
   "outputs": [
    {
     "name": "stdout",
     "output_type": "stream",
     "text": [
      "343\n"
     ]
    }
   ],
   "source": [
    "def power(a, n):\n",
    "    b = 1\n",
    "    while n:\n",
    "        if not (n % 2):\n",
    "            n /= 2\n",
    "            a *= a\n",
    "        else:\n",
    "            n -= 1\n",
    "            b *= a\n",
    "    return b\n",
    "print(power(7, 3))"
   ]
  },
  {
   "cell_type": "markdown",
   "metadata": {},
   "source": [
    "4. Даны два числа `a` и `b`. Найдите их наибольший общий делитель."
   ]
  },
  {
   "cell_type": "code",
   "execution_count": 39,
   "metadata": {},
   "outputs": [
    {
     "data": {
      "text/plain": [
       "5"
      ]
     },
     "execution_count": 39,
     "metadata": {},
     "output_type": "execute_result"
    }
   ],
   "source": [
    "def euclidus(m, n):\n",
    "    r = m % n\n",
    "    if r == 0:\n",
    "        return n\n",
    "    m = n\n",
    "    n = r\n",
    "    return euclidus(m, n)\n",
    "euclidus(10, 15)"
   ]
  },
  {
   "cell_type": "markdown",
   "metadata": {},
   "source": [
    "5. Даны два числа `a` и `b`. Найдите пару чисел `x` и `y`, являющуюся решением уравнения вида: $ax+by=НОД(a,b)$"
   ]
  },
  {
   "cell_type": "code",
   "execution_count": 40,
   "metadata": {},
   "outputs": [
    {
     "data": {
      "text/plain": [
       "(5, (1, -1))"
      ]
     },
     "execution_count": 40,
     "metadata": {},
     "output_type": "execute_result"
    }
   ],
   "source": [
    "# source: https://www.techiedelight.com/ru/extended-euclidean-algorithm-implementation/\n",
    "def extended_euclidus_algorithm(a, b):\n",
    "    x1, y1, x2, y2 = 1, 0, 0, 1 \n",
    "    while b != 0 :\n",
    "        q = a // b\n",
    "        r = a % b\n",
    "        \n",
    "        a = b\n",
    "        b = r\n",
    "        \n",
    "        x1, y1, x2, y2 = x2, y2, x1 - q * x2, y1 - q * y2\n",
    "        \n",
    "    gcd = a\n",
    "    coef = (x1, y1)\n",
    "    return gcd, coef    \n",
    "extended_euclidus_algorithm(15, 10)"
   ]
  },
  {
   "cell_type": "markdown",
   "metadata": {},
   "source": [
    "6. Проверить, является ли число `a` простым."
   ]
  },
  {
   "cell_type": "code",
   "execution_count": 41,
   "metadata": {},
   "outputs": [
    {
     "data": {
      "text/plain": [
       "True"
      ]
     },
     "execution_count": 41,
     "metadata": {},
     "output_type": "execute_result"
    }
   ],
   "source": [
    "def is_prime(a):\n",
    "    for d in range(2, int(a**0.5)+1):\n",
    "        if a % d == 0:\n",
    "            return False \n",
    "    return True\n",
    "\n",
    "is_prime(13)"
   ]
  },
  {
   "cell_type": "markdown",
   "metadata": {},
   "source": [
    "7. Найти $k$-тое по счету простое число. Число $2$ считать простым числом с номером $1$."
   ]
  },
  {
   "cell_type": "code",
   "execution_count": 42,
   "metadata": {},
   "outputs": [
    {
     "data": {
      "text/plain": [
       "11"
      ]
     },
     "execution_count": 42,
     "metadata": {},
     "output_type": "execute_result"
    }
   ],
   "source": [
    "def nth_prime(n):\n",
    "    primes = []\n",
    "    d = 2\n",
    "    while len(primes) < n:\n",
    "        is_prime = True\n",
    "        square_d = d**0.5\n",
    "        for p in primes:\n",
    "            if p > square_d:\n",
    "                break\n",
    "            if d % p == 0: \n",
    "                is_prime = False\n",
    "                break \n",
    "        if is_prime:\n",
    "            primes.append(d)\n",
    "        d += 1 \n",
    "    return primes[-1] \n",
    "nth_prime(5)"
   ]
  },
  {
   "cell_type": "markdown",
   "metadata": {},
   "source": [
    "8. Найти количество простых чисел в диапазоне от $[0,n]$. "
   ]
  },
  {
   "cell_type": "code",
   "execution_count": 43,
   "metadata": {},
   "outputs": [
    {
     "data": {
      "text/plain": [
       "6"
      ]
     },
     "execution_count": 43,
     "metadata": {},
     "output_type": "execute_result"
    }
   ],
   "source": [
    "\n",
    "def eratosthenes(n):\n",
    "    num = list(range(n+1))\n",
    "    num[1] = 0\n",
    "\n",
    "    for p in range(n+1):\n",
    "        if num[p]:\n",
    "            for i in range(2*p, n+1, p):\n",
    "                num[i] = 0\n",
    "    simple = [i for i in num if i]\n",
    "    return len(simple)\n",
    "\n",
    "eratosthenes(13)"
   ]
  },
  {
   "cell_type": "markdown",
   "metadata": {},
   "source": [
    "9. Дан список целых чисел `arr`. Реализовать сортировку простыми обменами, в качестве результата вернуть количество перестановок выполненных в процессе сортировки."
   ]
  },
  {
   "cell_type": "code",
   "execution_count": 44,
   "metadata": {},
   "outputs": [
    {
     "data": {
      "text/plain": [
       "5"
      ]
     },
     "execution_count": 44,
     "metadata": {},
     "output_type": "execute_result"
    }
   ],
   "source": [
    "def swap_sort(arr):\n",
    "    n = len(arr)\n",
    "    swaps = 0\n",
    "    for i in range(n):\n",
    "        for j in range(i+1, n):\n",
    "            if arr[i] > arr[j]:\n",
    "                arr[i], arr[j] = arr[j], arr[i]\n",
    "                swaps += 1\n",
    "    return swaps\n",
    "swap_sort([1, 6, 8, 9, 4, 7])"
   ]
  },
  {
   "cell_type": "markdown",
   "metadata": {},
   "source": [
    "10. Дан список целых чисел `arr`. Реализовать сортировку вставками (без использования бинарного поиска), в качестве результата вернуть количество перестановок выполненных в процессе сортировки."
   ]
  },
  {
   "cell_type": "code",
   "execution_count": 45,
   "metadata": {},
   "outputs": [
    {
     "data": {
      "text/plain": [
       "5"
      ]
     },
     "execution_count": 45,
     "metadata": {},
     "output_type": "execute_result"
    }
   ],
   "source": [
    "def insertion_sort(arr):\n",
    "    n = len(arr)\n",
    "    swaps = 0\n",
    "    for i in range(n):\n",
    "        k = i\n",
    "        while k > 0 and arr[k-1] > arr[k]:\n",
    "            arr[k], arr[k-1] = arr[k-1], arr[k]\n",
    "            swaps += 1\n",
    "            k -= 1\n",
    "    return swaps\n",
    "\n",
    "insertion_sort([1, 6, 8, 9, 4, 7])"
   ]
  },
  {
   "cell_type": "markdown",
   "metadata": {},
   "source": [
    "11. Дан сортированный список целых чисел `arr` и число `x`. Найти индекс, на котором будет расположено число `x` в списке, после его добавления в список в порядке сортировки."
   ]
  },
  {
   "cell_type": "code",
   "execution_count": 46,
   "metadata": {},
   "outputs": [
    {
     "data": {
      "text/plain": [
       "1"
      ]
     },
     "execution_count": 46,
     "metadata": {},
     "output_type": "execute_result"
    }
   ],
   "source": [
    "def bs(arr, n):\n",
    "    low = 0\n",
    "    high = len(arr)-1\n",
    "    while low <= high:    \n",
    "        mid = (low + high) // 2\n",
    "        if n == arr[mid]:\n",
    "            return mid\n",
    "        elif n > arr[mid]:\n",
    "            low = mid + 1\n",
    "        else:\n",
    "            high = mid - 1\n",
    "    return -1\n",
    "\n",
    "\n",
    "bs([1, 4, 6, 7, 8, 9], 4)"
   ]
  },
  {
   "cell_type": "markdown",
   "metadata": {},
   "source": [
    "12. Даны два сортированных списка `arr1` и `arr2`. Выполнить их слияние так, чтобы полученный список так же был сортирован."
   ]
  },
  {
   "cell_type": "code",
   "execution_count": 47,
   "metadata": {},
   "outputs": [
    {
     "data": {
      "text/plain": [
       "[1, 2, 4, 5, 6, 7, 7, 8, 9, 10, 22]"
      ]
     },
     "execution_count": 47,
     "metadata": {},
     "output_type": "execute_result"
    }
   ],
   "source": [
    "def merge(a, b):\n",
    "    merged = [] \n",
    "    a = a[::-1]\n",
    "    b = b[::-1]\n",
    "    while b:\n",
    "        while a and a[-1] < b[-1]:\n",
    "            merged.append(a.pop())\n",
    "        merged.append(b.pop())\n",
    "    merged.extend(a[::-1])\n",
    "    return merged\n",
    "merge([1, 4, 6, 7, 8, 9], [2, 5, 7, 10, 22])"
   ]
  },
  {
   "cell_type": "markdown",
   "metadata": {},
   "source": [
    "13. Реализовать алгоритм быстрой сортировки."
   ]
  },
  {
   "cell_type": "code",
   "execution_count": 48,
   "metadata": {},
   "outputs": [
    {
     "data": {
      "text/plain": [
       "[1, 2, 3, 3, 4, 5, 6, 7, 8, 9]"
      ]
     },
     "execution_count": 48,
     "metadata": {},
     "output_type": "execute_result"
    }
   ],
   "source": [
    "import random\n",
    "arr = [9, 3, 4, 6, 1, 2, 3, 5, 7, 8]\n",
    "\n",
    "\n",
    "def quicksort(arr):\n",
    "    if len(arr) < 2:\n",
    "        return arr\n",
    "    pivot = random.randint(0, len(arr)-1)\n",
    "    middle = arr[pivot]\n",
    "    \n",
    "    \n",
    "    lower, same, higher = [], [], []\n",
    "\n",
    "    for elem in arr:\n",
    "        if elem < middle:\n",
    "            lower.append(elem)\n",
    "        elif elem > middle:\n",
    "            higher.append(elem)\n",
    "        elif elem == middle:\n",
    "            same.append(elem)\n",
    "    return quicksort(lower) + same + quicksort(higher)\n",
    "quicksort(arr)"
   ]
  },
  {
   "cell_type": "markdown",
   "metadata": {},
   "source": [
    "14. Реализовать алгоритм сортировки слиянием с использованием галопирования."
   ]
  },
  {
   "cell_type": "code",
   "execution_count": 49,
   "metadata": {},
   "outputs": [
    {
     "ename": "UnboundLocalError",
     "evalue": "local variable 'l' referenced before assignment",
     "output_type": "error",
     "traceback": [
      "\u001b[0;31m---------------------------------------------------------------------------\u001b[0m",
      "\u001b[0;31mUnboundLocalError\u001b[0m                         Traceback (most recent call last)",
      "\u001b[1;32m/home/victoria/Рабочий стол/2 course/DSA_Course_Exam/Practice.ipynb Cell 29\u001b[0m line \u001b[0;36m2\n\u001b[1;32m     <a href='vscode-notebook-cell:/home/victoria/%D0%A0%D0%B0%D0%B1%D0%BE%D1%87%D0%B8%D0%B9%20%D1%81%D1%82%D0%BE%D0%BB/2%20course/DSA_Course_Exam/Practice.ipynb#X40sZmlsZQ%3D%3D?line=16'>17</a>\u001b[0m         AB[r:r\u001b[39m+\u001b[39ml], AB[r\u001b[39m+\u001b[39ml] \u001b[39m=\u001b[39m AB[j:j\u001b[39m+\u001b[39ml], C[i] \n\u001b[1;32m     <a href='vscode-notebook-cell:/home/victoria/%D0%A0%D0%B0%D0%B1%D0%BE%D1%87%D0%B8%D0%B9%20%D1%81%D1%82%D0%BE%D0%BB/2%20course/DSA_Course_Exam/Practice.ipynb#X40sZmlsZQ%3D%3D?line=17'>18</a>\u001b[0m         r, j, m \u001b[39m=\u001b[39m r \u001b[39m+\u001b[39m l \u001b[39m+\u001b[39m \u001b[39m1\u001b[39m, j \u001b[39m+\u001b[39m l, m \u001b[39m-\u001b[39m l\n\u001b[0;32m---> <a href='vscode-notebook-cell:/home/victoria/%D0%A0%D0%B0%D0%B1%D0%BE%D1%87%D0%B8%D0%B9%20%D1%81%D1%82%D0%BE%D0%BB/2%20course/DSA_Course_Exam/Practice.ipynb#X40sZmlsZQ%3D%3D?line=19'>20</a>\u001b[0m galloping([\u001b[39m1\u001b[39;49m, \u001b[39m2\u001b[39;49m, \u001b[39m3\u001b[39;49m, \u001b[39m4\u001b[39;49m, \u001b[39m5\u001b[39;49m, \u001b[39m9\u001b[39;49m], \u001b[39m5\u001b[39;49m, [\u001b[39m6\u001b[39;49m, \u001b[39m8\u001b[39;49m, \u001b[39m9\u001b[39;49m, \u001b[39m12\u001b[39;49m, \u001b[39m19\u001b[39;49m, \u001b[39m22\u001b[39;49m])\n",
      "\u001b[1;32m/home/victoria/Рабочий стол/2 course/DSA_Course_Exam/Practice.ipynb Cell 29\u001b[0m line \u001b[0;36m1\n\u001b[1;32m      <a href='vscode-notebook-cell:/home/victoria/%D0%A0%D0%B0%D0%B1%D0%BE%D1%87%D0%B8%D0%B9%20%D1%81%D1%82%D0%BE%D0%BB/2%20course/DSA_Course_Exam/Practice.ipynb#X40sZmlsZQ%3D%3D?line=5'>6</a>\u001b[0m r, j, m \u001b[39m=\u001b[39m \u001b[39m0\u001b[39m, n, \u001b[39mlen\u001b[39m(AB) \u001b[39m-\u001b[39m n\n\u001b[1;32m      <a href='vscode-notebook-cell:/home/victoria/%D0%A0%D0%B0%D0%B1%D0%BE%D1%87%D0%B8%D0%B9%20%D1%81%D1%82%D0%BE%D0%BB/2%20course/DSA_Course_Exam/Practice.ipynb#X40sZmlsZQ%3D%3D?line=6'>7</a>\u001b[0m \u001b[39mfor\u001b[39;00m i \u001b[39min\u001b[39;00m \u001b[39mrange\u001b[39m(n):\n\u001b[1;32m      <a href='vscode-notebook-cell:/home/victoria/%D0%A0%D0%B0%D0%B1%D0%BE%D1%87%D0%B8%D0%B9%20%D1%81%D1%82%D0%BE%D0%BB/2%20course/DSA_Course_Exam/Practice.ipynb#X40sZmlsZQ%3D%3D?line=7'>8</a>\u001b[0m     \u001b[39m# k — степень двойки\u001b[39;00m\n\u001b[1;32m      <a href='vscode-notebook-cell:/home/victoria/%D0%A0%D0%B0%D0%B1%D0%BE%D1%87%D0%B8%D0%B9%20%D1%81%D1%82%D0%BE%D0%BB/2%20course/DSA_Course_Exam/Practice.ipynb#X40sZmlsZQ%3D%3D?line=8'>9</a>\u001b[0m     \u001b[39m# l — указатель на 2^k-1 элемент k, l = 0, 0\u001b[39;00m\n\u001b[0;32m---> <a href='vscode-notebook-cell:/home/victoria/%D0%A0%D0%B0%D0%B1%D0%BE%D1%87%D0%B8%D0%B9%20%D1%81%D1%82%D0%BE%D0%BB/2%20course/DSA_Course_Exam/Practice.ipynb#X40sZmlsZQ%3D%3D?line=9'>10</a>\u001b[0m     \u001b[39mwhile\u001b[39;00m l \u001b[39m<\u001b[39m m \u001b[39mand\u001b[39;00m AB[j\u001b[39m+\u001b[39ml] \u001b[39m<\u001b[39m C[i]:\n\u001b[1;32m     <a href='vscode-notebook-cell:/home/victoria/%D0%A0%D0%B0%D0%B1%D0%BE%D1%87%D0%B8%D0%B9%20%D1%81%D1%82%D0%BE%D0%BB/2%20course/DSA_Course_Exam/Practice.ipynb#X40sZmlsZQ%3D%3D?line=10'>11</a>\u001b[0m         k \u001b[39m+\u001b[39m\u001b[39m=\u001b[39m \u001b[39m1\u001b[39m\n\u001b[1;32m     <a href='vscode-notebook-cell:/home/victoria/%D0%A0%D0%B0%D0%B1%D0%BE%D1%87%D0%B8%D0%B9%20%D1%81%D1%82%D0%BE%D0%BB/2%20course/DSA_Course_Exam/Practice.ipynb#X40sZmlsZQ%3D%3D?line=11'>12</a>\u001b[0m         l \u001b[39m=\u001b[39m \u001b[39m2\u001b[39m\u001b[39m*\u001b[39m\u001b[39m*\u001b[39mk \u001b[39m-\u001b[39m \u001b[39m1\u001b[39m\n",
      "\u001b[0;31mUnboundLocalError\u001b[0m: local variable 'l' referenced before assignment"
     ]
    }
   ],
   "source": [
    "# source: https://vporoshok.me/post/2018/10/merge-sort/\n",
    "def galloping(AB, n, C): \n",
    "    C[:] = AB[:n]\n",
    "    # r — указатель на конец результата # j — место последней вставки\n",
    "    # m — длина остатка B\n",
    "    r, j, m = 0, n, len(AB) - n\n",
    "    for i in range(n):\n",
    "        # k — степень двойки\n",
    "        # l — указатель на 2^k-1 элемент k, l = 0, 0\n",
    "        while l < m and AB[j+l] < C[i]:\n",
    "            k += 1\n",
    "            l = 2**k - 1\n",
    "            if l >= m: l=m-1\n",
    "            while l >= 0 and AB[j+l] > C[i]: \n",
    "                l -= 1\n",
    "        l += 1\n",
    "        AB[r:r+l], AB[r+l] = AB[j:j+l], C[i] \n",
    "        r, j, m = r + l + 1, j + l, m - l\n",
    "    \n",
    "galloping([1, 2, 3, 4, 5, 9], 5, [6, 8, 9, 12, 19, 22])\n"
   ]
  },
  {
   "cell_type": "markdown",
   "metadata": {},
   "source": [
    "14. На вершине лесенки, содержащей N ступенек, находится мячик, который начинает прыгать по ним вниз, к основанию. Мячик может прыгнуть на следующую ступеньку, на ступеньку через одну или через 2. (То есть, если мячик лежит на 8-ой ступеньке, то он может переместиться на 5-ую, 6-ую или 7-ую.) Определить число всевозможных \"маршрутов\" мячика с вершины на землю."
   ]
  },
  {
   "cell_type": "code",
   "execution_count": null,
   "metadata": {},
   "outputs": [
    {
     "name": "stdout",
     "output_type": "stream",
     "text": [
      "13\n"
     ]
    }
   ],
   "source": [
    "def routes_to_start(N):\n",
    "    N += 1\n",
    "    dp = [0]*N\n",
    "    dp[-1] = 1 \n",
    "\n",
    "    for step in range(N-2, -1, -1):\n",
    "        dp[step] = dp[step+1]\n",
    "        if step+2 < N:\n",
    "            dp[step] += dp[step+2]\n",
    "        if step+3 < N:\n",
    "            dp[step] += dp[step+3]\n",
    "    return dp[0]\n",
    "\n",
    "N = 5\n",
    "print(routes_to_start(N))"
   ]
  },
  {
   "cell_type": "markdown",
   "metadata": {},
   "source": [
    "15. Вычислите n-й член последовательности, заданной формулами:\n",
    "\n",
    "$$\n",
    "a_{2n} = a_n ­+ a_{n-1}, \\newline\n",
    "a_{2n+1} = a_n – a_{n-1}, \\newline\n",
    "a_0 = a_1 = 1.\n",
    "$$"
   ]
  },
  {
   "cell_type": "code",
   "execution_count": null,
   "metadata": {},
   "outputs": [
    {
     "name": "stdout",
     "output_type": "stream",
     "text": [
      "2\n"
     ]
    }
   ],
   "source": [
    "def a(n):\n",
    "    n += 1 \n",
    "    dp = [0]*n \n",
    "    dp[0] = dp[1] = 1 \n",
    "    for i in range(n): \n",
    "        k = i // 2\n",
    "        if i % 2: \n",
    "            dp[i] = dp[k] - dp[k-1]\n",
    "        else: \n",
    "            dp[i] = dp[k] + dp[k-1]\n",
    "\n",
    "    return dp[n-1]\n",
    "\n",
    "\n",
    "n = 6\n",
    "print(a(n))"
   ]
  },
  {
   "cell_type": "markdown",
   "metadata": {},
   "source": [
    "16. Даны две последовательности, требуется найти длину их наибольшей общей подпоследовательности."
   ]
  },
  {
   "cell_type": "code",
   "execution_count": null,
   "metadata": {},
   "outputs": [
    {
     "data": {
      "text/plain": [
       "3"
      ]
     },
     "execution_count": 11,
     "metadata": {},
     "output_type": "execute_result"
    }
   ],
   "source": [
    "# ejudge: https://new.contest.yandex.ru/48706/problem?id=215/2023_04_11/LfJ9C3F9xp\n",
    "def lcs_len(a, b):\n",
    "    n = len(a) \n",
    "    m = len(b)\n",
    "    dp = [[0 for _ in range(m+1)] for _ in range(n+1)]\n",
    "    for i in range(1, n+1):\n",
    "        for j in range(1, m+1):\n",
    "            if a[i-1] == b[j-1]:\n",
    "                dp[i][j] = max(dp[i-1][j-1] + 1, dp[i][j])\n",
    "            else:\n",
    "                dp[i][j] = max(dp[i-1][j], dp[i][j-1])\n",
    "    return dp[n][m]\n",
    "lcs_len([1, 2, 3, 4, 5], [2, 7, 3, 2, 5])\n",
    "# n = int(input()) \n",
    "# a = [int(x) for x in input().split()]\n",
    "# m = int(input()) \n",
    "# b = [int(x) for x in input().split()]\n",
    "# print(lcs_len(a, b))"
   ]
  },
  {
   "cell_type": "markdown",
   "metadata": {},
   "source": [
    "17. Дано `N` золотых слитков массой $m_1, …, m_N$. Ими наполняют рюкзак, который выдерживает вес не более `M`. Можно ли набрать вес в точности `M`?"
   ]
  },
  {
   "cell_type": "code",
   "execution_count": null,
   "metadata": {},
   "outputs": [
    {
     "data": {
      "text/plain": [
       "False"
      ]
     },
     "execution_count": 34,
     "metadata": {},
     "output_type": "execute_result"
    }
   ],
   "source": [
    "def can_get_weight(N, m, M):# ejudge: https://informatics.msk.ru/mod/statements/view.php?id=813&chapterid=1120#1\n",
    "    dp = [[False for _ in  range(M+1)] for _ in range(N+1)] \n",
    "    dp[0][0] = True\n",
    "    m = [0] + m\n",
    "    for i in range(1, N+1):\n",
    "        for j in range(0, M+1):\n",
    "            dp[i][j] = dp[i-1][j]\n",
    "            if m[i] <= j and dp[i-1][j - m[i]]:\n",
    "                dp[i][j] = True\n",
    "    return dp[N][M]\n",
    "can_get_weight(3, [4, 5, 7], 10)"
   ]
  },
  {
   "cell_type": "markdown",
   "metadata": {},
   "source": [
    "18. Определите расстояние Левенштейна для двух данных строк `s1` и `s2`."
   ]
  },
  {
   "cell_type": "code",
   "execution_count": null,
   "metadata": {},
   "outputs": [
    {
     "name": "stdout",
     "output_type": "stream",
     "text": [
      "1\n"
     ]
    }
   ],
   "source": [
    "# source: https://habr.com/ru/articles/676858/\n",
    "def levenstein(str_1, str_2):\n",
    "    n = len(str_1)\n",
    "    m = len(str_2)\n",
    "    dp = [[0] * (m + 1) for _ in range(n + 1)]\n",
    "\n",
    "    for i in range(n + 1):\n",
    "        for j in range(m + 1):\n",
    "            if i == 0:\n",
    "                dp[i][j] = j\n",
    "            elif j == 0:\n",
    "                dp[i][j] = i\n",
    "            elif str_1[i - 1] == str_2[j - 1]:\n",
    "                dp[i][j] = dp[i - 1][j - 1]\n",
    "            else:\n",
    "                dp[i][j] = min(\n",
    "                    dp[i - 1][j] + 1,\n",
    "                    dp[i][j - 1] + 1,\n",
    "                    dp[i - 1][j - 1] + 1,\n",
    "                )\n",
    "\n",
    "    return dp[n][m]\n",
    "\n",
    "print(levenstein('алгоритмы', 'алкоритмы'))"
   ]
  },
  {
   "cell_type": "markdown",
   "metadata": {},
   "source": [
    "19. Даны два упорядоченных по невозрастанию односвязных списка. Объедините их в новый упорядоченный по невозрастанию односвязный список."
   ]
  },
  {
   "cell_type": "code",
   "execution_count": null,
   "metadata": {},
   "outputs": [
    {
     "name": "stdout",
     "output_type": "stream",
     "text": [
      "12 9 7 5 None\n",
      "15 8 6 4 None\n",
      "15 12 9 8 7 6 5 4 None\n"
     ]
    }
   ],
   "source": [
    "class Node:\n",
    "    def __init__(self, val, next): \n",
    "        self.val = val \n",
    "        self.next = next \n",
    "    def __str__(self):\n",
    "        return f'{self.val} {self.next}'\n",
    "\n",
    "def merge_sorted(n1, n2):\n",
    "    first = Node(None, None)\n",
    "    last = first\n",
    "    while n1 or n2:\n",
    "        new_val = None \n",
    "        if n1 and n2 and n1.val >= n2.val or n1 and not n2:\n",
    "            new_val = n1.val\n",
    "            n1 = n1.next \n",
    "        else: \n",
    "            new_val = n2.val\n",
    "            n2 = n2.next\n",
    "        last.next = Node(new_val, None)\n",
    "        last = last.next \n",
    "    return first.next\n",
    "\n",
    "n1 = Node(12, Node(9, Node(7, Node(5, None))))\n",
    "print(n1)\n",
    "n2 = Node(15, Node(8, Node(6, Node(4, None))))\n",
    "print(n2)\n",
    "\n",
    "print(merge_sorted(n1, n2)) "
   ]
  },
  {
   "cell_type": "markdown",
   "metadata": {},
   "source": [
    "20. Дан односвязный список. Определить содержит ли он цикл. Список может содержать петли."
   ]
  },
  {
   "cell_type": "code",
   "execution_count": null,
   "metadata": {},
   "outputs": [
    {
     "name": "stdout",
     "output_type": "stream",
     "text": [
      "False\n",
      "False\n",
      "True\n"
     ]
    }
   ],
   "source": [
    "\n",
    "class Node:\n",
    "    def __init__(self, val, next): \n",
    "        self.val = val\n",
    "        self.next = next\n",
    "    def __str__(self):\n",
    "        return f'{self.val} {self.next}'\n",
    "\n",
    "def has_cycle(node):\n",
    "    visited = set()\n",
    "    while node.next:\n",
    "        if node.next == node:\n",
    "            return False # has a loop in a single node, according to the task it's ok\n",
    "        if node.next in visited: \n",
    "            return True \n",
    "        node = node.next \n",
    "        visited.add(node) \n",
    "    return False\n",
    "\n",
    "\n",
    "print(has_cycle(Node(12, Node(9, Node(7, Node(5, None))))))\n",
    "n = Node(12, None)\n",
    "n.next = n \n",
    "print(has_cycle(n))\n",
    "n2 = Node(1, Node(2, Node(3, None)))\n",
    "n2.next.next.next = n2 # add a cycle \n",
    "print(has_cycle(n2))"
   ]
  },
  {
   "cell_type": "markdown",
   "metadata": {},
   "source": [
    "21. Дана строка `S` состоящая из открывающихся и закрывающихся скобок '(' и ')'. Найти длину наибольшей правильной последовательности скобок.\n",
    "\n",
    "    Последовательность скобок верна если:\n",
    "\n",
    "    * Для каждой открытой скобки есть закрытая\n",
    "    * Открытые скобки должны закрываться в соответствующем порядке."
   ]
  },
  {
   "cell_type": "code",
   "execution_count": null,
   "metadata": {},
   "outputs": [
    {
     "name": "stdout",
     "output_type": "stream",
     "text": [
      "12 1\n"
     ]
    }
   ],
   "source": [
    "# ejudge: https://codeforces.com/problemset/problem/5/C\n",
    "def _max_correct_braces(s): \n",
    "    nest = best = best_cnt = start_at = curr = 0\n",
    "    for i, c in enumerate(s):\n",
    "        if c == '(':\n",
    "            curr = 0 \n",
    "            nest += 1\n",
    "            continue \n",
    "\n",
    "        nest -= 1\n",
    "        curr += 2 \n",
    "        if nest < 0: \n",
    "            nest = 0\n",
    "            curr = 0\n",
    "            start_at = i+1\n",
    "            continue\n",
    "\n",
    "        if nest == 0: \n",
    "            curr = i-start_at+1 \n",
    "\n",
    "        \n",
    "        if curr == best: \n",
    "            best_cnt += 1\n",
    "        elif curr > best:\n",
    "            best = max(best, curr)\n",
    "            best_cnt = 1\n",
    "\n",
    "    if not best:\n",
    "        best_cnt = 1\n",
    "\n",
    "    return best, best_cnt \n",
    "\n",
    "def max_correct_braces(s):\n",
    "    m1, c1 = _max_correct_braces(s)\n",
    "    m2, c2 = _max_correct_braces(s[::-1].translate(str.maketrans('()', ')('))) \n",
    "    if m2 > m1:\n",
    "        return m2, c2 \n",
    "    return m1, c1\n",
    "\n",
    "\n",
    "print(*max_correct_braces('())))()(()()(()))'))"
   ]
  },
  {
   "cell_type": "markdown",
   "metadata": {},
   "source": [
    "22. Дан список цифр (значения от 0 до 9), найти минимальную возможную сумму двух чисел, составленных из цифр в списке. Все цифры должны быть использованы. \n",
    "\n",
    "    Любое сочетание цифр может быть использовано для составления чисел. Ведущие нули разрешены.\n",
    "\n",
    "    Если составить 2 числа невозможно (например, n==0), тогда \"сумма\" - это значение единственно возможного числа."
   ]
  },
  {
   "cell_type": "code",
   "execution_count": null,
   "metadata": {},
   "outputs": [
    {
     "name": "stdout",
     "output_type": "stream",
     "text": [
      "15\n",
      "16047\n"
     ]
    }
   ],
   "source": [
    "def min_sum_from_digits(dig):\n",
    "    dig = sorted(dig) \n",
    "    res = 0 \n",
    "    offset = 1\n",
    "    while dig: \n",
    "        res += dig.pop() * offset\n",
    "        if dig: \n",
    "            res += dig.pop() * offset\n",
    "        offset *= 10 \n",
    "    return res \n",
    "\n",
    "print(min_sum_from_digits([1, 2, 3]))\n",
    "print(min_sum_from_digits([3, 2, 1, 4, 5, 6, 9, 8, 7, 0]))"
   ]
  },
  {
   "cell_type": "markdown",
   "metadata": {},
   "source": [
    "23. Реализовать алгоритм пирамидальной сортировки. "
   ]
  },
  {
   "cell_type": "code",
   "execution_count": 1,
   "metadata": {},
   "outputs": [
    {
     "name": "stdout",
     "output_type": "stream",
     "text": [
      "Отсортированный массив:\n",
      "[5, 6, 7, 11, 12, 13]\n"
     ]
    }
   ],
   "source": [
    "def heapify(arr, n, i):\n",
    "    largest = i  \n",
    "    l = 2 * i + 1     \n",
    "    r = 2 * i + 2     \n",
    "\n",
    "    if l < n and arr[l] > arr[largest]:\n",
    "        largest = l\n",
    "\n",
    "    if r < n and arr[r] > arr[largest]:\n",
    "        largest = r\n",
    "\n",
    "    if largest != i:\n",
    "        arr[i], arr[largest] = arr[largest], arr[i]  \n",
    "        heapify(arr, n, largest)\n",
    "\n",
    "def heapSort(arr):\n",
    "    n = len(arr)\n",
    "\n",
    "    # Построение max-heap.\n",
    "    for i in range(n // 2 - 1, -1, -1):\n",
    "        heapify(arr, n, i)\n",
    "\n",
    "    # Извлечение элементов из кучи один за другим.\n",
    "    for i in range(n - 1, 0, -1):\n",
    "        arr[i], arr[0] = arr[0], arr[i]   # Перемещение текущего корня в конец\n",
    "        heapify(arr, i, 0)\n",
    "\n",
    "# Пример использования\n",
    "arr = [12, 11, 13, 5, 6, 7]\n",
    "heapSort(arr)\n",
    "print(\"Отсортированный массив:\")\n",
    "print(arr)\n"
   ]
  },
  {
   "cell_type": "markdown",
   "metadata": {},
   "source": [
    "24. Дана строка `S` с повторяющимися буквами. Переставить буквы таким образом, чтобы одинаковые буквы не стояли рядом.\n",
    "    \n",
    "    *Примечание:* строка содержит только строчные латинские буквы и может иметь множество решений. Верните любое из них."
   ]
  },
  {
   "cell_type": "code",
   "execution_count": null,
   "metadata": {},
   "outputs": [
    {
     "name": "stdout",
     "output_type": "stream",
     "text": [
      "abcabc\n"
     ]
    }
   ],
   "source": [
    "# O(n) time, O(n) space \n",
    "# TODO: swap in-place\n",
    "def split_adj(s):\n",
    "    s = list(s)\n",
    "    cnt = {} \n",
    "    for c in s:\n",
    "        if c not in cnt:\n",
    "            cnt[c] = 0\n",
    "        cnt[c] += 1\n",
    "    res = '' \n",
    "    while cnt:\n",
    "        keys = list(cnt.keys())\n",
    "        if len(keys) == 1 and (cnt[keys[0]] > 1 or res and res[-1] == keys[0]):\n",
    "            raise ValueError('It is impossible to swap items to have no adjacent duplicates')\n",
    "        for k in keys: \n",
    "            if not cnt[k]:\n",
    "                del cnt[k]\n",
    "            else:\n",
    "                res += k \n",
    "                cnt[k] -= 1\n",
    "    return res\n",
    "\n",
    "print(split_adj('aabbcc'))\n",
    "# print(split_adj('aabbbaaa'))"
   ]
  },
  {
   "cell_type": "markdown",
   "metadata": {},
   "source": [
    "25. Конвертация из разных типов представления графов. Четыре типа, значит 4*3=12 функций."
   ]
  },
  {
   "cell_type": "code",
   "execution_count": null,
   "metadata": {},
   "outputs": [],
   "source": [
    "# assume they're all oriented and non-weighted, it's trivial to handle other cases\n",
    "\n",
    "from pprint import pprint\n",
    "\n",
    "def edges_to_adj(e):\n",
    "    adj = {} \n",
    "    for a, b in e: \n",
    "        if a not in adj: \n",
    "            adj[a] = set() \n",
    "        adj[a].add(b)\n",
    "    return adj \n",
    "\n",
    "def edges_to_matrix(edges):\n",
    "    \"\"\"Convert graph edges representation to a matrix representation. Note: vertices must be numbered 0 to N\"\"\"\n",
    "    N = max(max(a, b) for a, b in edges) \n",
    "    matrix = [[0 for _ in range(N+1)] for _ in range(N+1)] \n",
    "    for a, b in edges: \n",
    "        matrix[a][b] = 1 \n",
    "    return matrix\n",
    "\n",
    "def edges_to_incidence(edges): # seems ok\n",
    "    M = len(edges)\n",
    "    N = max(max(a, b) for a, b in edges) + 1\n",
    "    inc = [[] for _ in range(N)]\n",
    "    handled = set()\n",
    "    for a, b in edges:\n",
    "        if (a, b) in handled:\n",
    "            continue\n",
    "        for i in range(N):\n",
    "            inc[i].append(0)\n",
    "        inc[a][-1] = +1\n",
    "        inc[b][-1] = -1\n",
    "        if (b, a) in edges: # # both-way edge <=> unoriented\n",
    "            inc[b][-1] = 1 # unoriented edges are represented by both-positive numbers \n",
    "            handled.add((b, a))\n",
    "    return inc\n",
    "\n",
    "def adj_to_matrix(adj):\n",
    "    \"\"\"Convert graph adj representation to a matrix representation. Note: vertices must be numbered 0 to N\"\"\"\n",
    "    N = max(adj.keys())\n",
    "    matrix = [[0 for _ in range(N+1)] for _ in range(N+1)] \n",
    "    for a, connected in adj.items():\n",
    "        for b in connected: \n",
    "            matrix[a][b] = 1 \n",
    "    return matrix \n",
    "\n",
    "def adj_to_edges(adj):\n",
    "    edges = set() \n",
    "    for a, connected in adj.items():\n",
    "        for b in connected:\n",
    "            edges.add((a, b))\n",
    "    return edges \n",
    "\n",
    "def adj_to_incidence(adj): # seems ok\n",
    "    N = max(adj.keys())+1\n",
    "    inc = [[] for _ in range(N)]\n",
    "    handled = set()\n",
    "    for a, connected in adj.items():\n",
    "        for b in connected:\n",
    "            if (a, b) in handled:\n",
    "                continue\n",
    "            for i in range(N):\n",
    "                inc[i].append(0)\n",
    "            inc[a][-1] = 1\n",
    "            inc[b][-1] = -1\n",
    "            if b in adj and a in adj[b]: # both-way edge <=> unoriented\n",
    "                inc[b][-1] = 1 # unoriented edges are represented by both-positive numbers \n",
    "                handled.add((b, a)) # so that we don't get a duplicate edge (aka column)\n",
    "    return inc\n",
    "\n",
    "def matrix_to_edges(matrix):\n",
    "    edges = set() \n",
    "    for a in range(len(matrix)):\n",
    "        for b in range(len(matrix[0])):\n",
    "            if matrix[a][b]:\n",
    "                edges.add((a, b))\n",
    "    return edges \n",
    "\n",
    "def matrix_to_adj(matrix):\n",
    "    adj = {}\n",
    "    for a in range(len(matrix)):\n",
    "        adj[a] = set()\n",
    "        for b in range(len(matrix[0])):\n",
    "            if matrix[a][b]:\n",
    "                adj[a].add(b)\n",
    "    return adj \n",
    "\n",
    "def matrix_to_incidence(matrix):\n",
    "    N = len(matrix)\n",
    "    if not matrix:\n",
    "        return [] \n",
    "    inc = [[] for _ in range(N)]\n",
    "    handled = set()\n",
    "    for a in range(N): \n",
    "        for b in range(N):\n",
    "            if (a, b) in handled:\n",
    "                continue\n",
    "            if not matrix[a][b]:\n",
    "                continue\n",
    "            for i in range(N): # add a new column (aka edge)\n",
    "                inc[i].append(0)\n",
    "            inc[a][-1] = 1\n",
    "            inc[b][-1] = -1\n",
    "            if matrix[b][a]: # both-way edge <=> unoriented\n",
    "                inc[b][-1] = 1 # unoriented edges are represented by both-positive numbers \n",
    "                handled.add((b, a)) # so that we don't get a duplicate edge (aka column)\n",
    "    return inc\n",
    "\n",
    "def incidence_to_edges(inc):\n",
    "    edges = set()\n",
    "    if not inc:\n",
    "        return edges\n",
    "    for i in range(len(inc[0])):\n",
    "        start = end = None\n",
    "        two_way = False\n",
    "        for j in range(len(inc)):\n",
    "            if inc[j][i] > 0:\n",
    "                if start is not None:\n",
    "                    two_way = True \n",
    "                    end = j\n",
    "                    break\n",
    "                start = j \n",
    "            elif inc[j][i] < 0:\n",
    "                end = j\n",
    "        edges.add((start, end))\n",
    "        if two_way:\n",
    "            edges.add((end, start))\n",
    "    return edges \n",
    "\n",
    "def incidence_to_adj(inc):\n",
    "    adj = {v: set() for v in range(len(inc))}\n",
    "    if not inc:\n",
    "        return adj \n",
    "    for i in range(len(inc[0])):\n",
    "        start = end = None\n",
    "        two_way = False\n",
    "        for j in range(len(inc)):\n",
    "            if inc[j][i] > 0:\n",
    "                if start is not None:\n",
    "                    two_way = True \n",
    "                    end = j\n",
    "                    break\n",
    "                start = j \n",
    "            elif inc[j][i] < 0:\n",
    "                end = j\n",
    "        adj[start].add(end)\n",
    "        if two_way:\n",
    "            adj[end].add(start)\n",
    "    return adj\n",
    "\n",
    "def incidence_to_matrix(inc):\n",
    "    matrix = [[0 for _ in range(len(inc))] for _ in range(len(inc))]\n",
    "    if not inc:\n",
    "        return matrix \n",
    "    for i in range(len(inc[0])):\n",
    "        start = end = None\n",
    "        two_way = False\n",
    "        for j in range(len(inc)):\n",
    "            if inc[j][i] > 0:\n",
    "                if start is not None:\n",
    "                    two_way = True \n",
    "                    end = j\n",
    "                    break\n",
    "                start = j \n",
    "            elif inc[j][i] < 0:\n",
    "                end = j\n",
    "        matrix[start][end] = 1\n",
    "        if two_way:\n",
    "            matrix[end][start] = 1\n",
    "    return matrix\n"
   ]
  },
  {
   "cell_type": "code",
   "execution_count": null,
   "metadata": {},
   "outputs": [
    {
     "name": "stdout",
     "output_type": "stream",
     "text": [
      "[[1, 0, -1],\n",
      " [-1, 1, 0],\n",
      " [0, 1, 1]]\n",
      "[[1, 0, -1],\n",
      " [-1, 1, 0],\n",
      " [0, 1, 1]]\n",
      "[[1, 0, -1],\n",
      " [-1, 1, 0],\n",
      " [0, 1, 1]]\n",
      "[[-1, 0, 0, 0],\n",
      " [0, -1, 0, 0],\n",
      " [0, 0, -1, 0],\n",
      " [0, 0, 0, -1],\n",
      " [1, 1, 1, 1]]\n",
      "[[-1, 0, 0, 0],\n",
      " [0, -1, 0, 0],\n",
      " [0, 0, -1, 0],\n",
      " [0, 0, 0, -1],\n",
      " [1, 1, 1, 1]]\n",
      "adj2\n",
      "{0: set(),\n",
      " 1: set(),\n",
      " 2: set(),\n",
      " 3: set(),\n",
      " 4: {0, 1, 2, 3}}\n",
      "\n",
      "[[-1, 0, 0, 0], [0, -1, 0, 0], [0, 0, -1, 0], [0, 0, 0, -1], [1, 1, 1, 1]]\n",
      "[[1], [0], [0], [1]]\n",
      "[[1], [0], [0], [1]]\n",
      "[[1], [0], [0], [1]]\n",
      "{(0, 1), (1, 2), (2, 0), (2, 1)}\n",
      "{0: {1}, 1: {2}, 2: {0, 1}}\n",
      "[[0, 1, 0], [0, 0, 1], [1, 1, 0]]\n"
     ]
    }
   ],
   "source": [
    "# some examples of incidence matrices: https://graphonline.ru/en/wiki/Help/IncidenceMatrix?ysclid=lqnzyyq728155699257\n",
    "            \n",
    "adj1 = {0: {1}, 1: {2}, 2: {1, 0}} \n",
    "pprint(adj_to_incidence(adj1), width=20)\n",
    "edges1 = adj_to_edges(adj1)\n",
    "pprint(edges_to_incidence(edges1), width=20)\n",
    "matrix1 = adj_to_matrix(adj1)\n",
    "pprint(matrix_to_incidence(matrix1), width=20)\n",
    "\n",
    "edges2 = {(4, 0), (4, 1), (4, 2), (4, 3)}\n",
    "pprint(edges_to_incidence(edges2), width=20)\n",
    "matrix2 = edges_to_matrix(edges2)\n",
    "pprint(matrix_to_incidence(matrix2), width=20)\n",
    "adj2 = matrix_to_adj(matrix2)\n",
    "print('adj2')\n",
    "pprint(adj2, width=20)\n",
    "print()\n",
    "inc2 = adj_to_incidence(adj2)\n",
    "pprint(adj_to_incidence(adj2))\n",
    "\n",
    "matrix3 = [\n",
    "    [0, 0, 0, 1],\n",
    "    [0, 0, 0, 0],\n",
    "    [0, 0, 0, 0],\n",
    "    [1, 0, 0, 0], \n",
    "]\n",
    "pprint(matrix_to_incidence(matrix3))\n",
    "edges3 = matrix_to_edges(matrix3) \n",
    "pprint(edges_to_incidence(edges3))\n",
    "adj3 = matrix_to_adj(matrix3)\n",
    "pprint(adj_to_incidence(adj3))\n",
    "\n",
    "inc4 = [\n",
    "    [1, 0, -3],\n",
    "    [-1, 1, 0],\n",
    "    [0, 1, 3],\n",
    "]\n",
    "pprint(incidence_to_edges(inc4))\n",
    "pprint(incidence_to_adj(inc4))\n",
    "print(incidence_to_matrix(inc4))"
   ]
  },
  {
   "cell_type": "markdown",
   "metadata": {},
   "source": [
    "26. Дано `N` городов и известны расстояния между ними. Не все города связаны друг с другом дорогой. Найти все возможные маршруты из города А в город В (ни в один город не заходить дважды). Определить самый длинный и самый короткий маршрут."
   ]
  },
  {
   "cell_type": "code",
   "execution_count": null,
   "metadata": {},
   "outputs": [
    {
     "data": {
      "text/plain": [
       "(([1, 4, 3, 5], 60), ([1, 5], 100))"
      ]
     },
     "execution_count": 9,
     "metadata": {},
     "output_type": "execute_result"
    }
   ],
   "source": [
    "def find_routes(edges, start, target):\n",
    "    adj = {}\n",
    "    for a, b, cost in edges:\n",
    "        if a not in adj:\n",
    "            adj[a] = set() \n",
    "        adj[a].add((b, cost))\n",
    "\n",
    "    routes = [] \n",
    "    def dfs(a, curr_route, curr_length): \n",
    "        if a == target:\n",
    "            routes.append((curr_route.copy(), curr_length))\n",
    "            return\n",
    "        for b, length in adj[a]:\n",
    "            if b in curr_route: # loop\n",
    "                continue\n",
    "            curr_length += length \n",
    "            curr_route.append(b)\n",
    "            dfs(b, curr_route, curr_length)\n",
    "            curr_route.pop() \n",
    "            curr_length -= length \n",
    "    \n",
    "    dfs(start, [start], 0)\n",
    "    return routes \n",
    "\n",
    "def get_min_and_max_route(routes):\n",
    "    min_i = max_i = 0 \n",
    "    for i in range(len(routes)):\n",
    "        length = routes[i][1]\n",
    "        if length < routes[min_i][1]:\n",
    "            min_i = i \n",
    "        if length > routes[max_i][1]:\n",
    "            max_i = i\n",
    "    return routes[min_i], routes[max_i]\n",
    "\n",
    "routes = find_routes({\n",
    "    (1, 2, 10),\n",
    "    (1, 4, 30),\n",
    "    (1, 5, 100),\n",
    "    (2, 3, 50),\n",
    "    (3, 5, 10),\n",
    "    (4, 3, 20),\n",
    "    (4, 5, 60),\n",
    "}, 1, 5)\n",
    "get_min_and_max_route(routes)"
   ]
  },
  {
   "cell_type": "markdown",
   "metadata": {},
   "source": [
    "27. Дан неориентированный невзвешенный граф. Необходимо посчитать количество его компонент связности и вернуть их в виде двумерного списка, количество строк которого соответствует количеству компонент, а в строках содержится множество вершин каждой компоненты."
   ]
  },
  {
   "cell_type": "code",
   "execution_count": null,
   "metadata": {},
   "outputs": [
    {
     "name": "stdout",
     "output_type": "stream",
     "text": [
      "[{1, 4}, {0, 2, 3, 5}]\n"
     ]
    }
   ],
   "source": [
    "# source: https://ru.algorithmica.org/cs/graph-traversals/connectivity/?ysclid=lqp4forpqf991113985\n",
    "def components(adj):\n",
    "    def dfs(adj, start, component, num):\n",
    "        component[start] = num \n",
    "        for end in adj[start]:\n",
    "            if end not in component:\n",
    "                dfs(adj, end, component, num)\n",
    "\n",
    "    num = 0\n",
    "    component = {} \n",
    "    for a in adj:\n",
    "        if a not in component:\n",
    "            dfs(adj, a, component, num)\n",
    "            num += 1\n",
    "    \n",
    "    return [{a for a, c_num in component.items() if c_num == i} for i in range(num)] \n",
    "    \n",
    "\n",
    "\n",
    "print(components({1: {4}, 4: {1}, 0: {2}, 2: {5, 3}, 3: {5}, 5: {2}}))"
   ]
  },
  {
   "cell_type": "markdown",
   "metadata": {},
   "source": [
    "28. Дан ориентированный невзвешенный граф. Определить является ли данный граф ациклическим."
   ]
  },
  {
   "cell_type": "code",
   "execution_count": null,
   "metadata": {},
   "outputs": [
    {
     "data": {
      "text/plain": [
       "False"
      ]
     },
     "execution_count": 21,
     "metadata": {},
     "output_type": "execute_result"
    }
   ],
   "source": [
    "from collections import deque\n",
    "\n",
    "def bfs_has_cycle(adj, start):\n",
    "    visited = {start}\n",
    "    queue = deque([start])\n",
    "\n",
    "    while queue:\n",
    "        node = queue.popleft()\n",
    "        for neighbor in adj.get(node, []):\n",
    "            if neighbor in visited:\n",
    "                return True\n",
    "            visited.add(neighbor)\n",
    "            queue.append(neighbor)\n",
    "    return False\n",
    "\n",
    "def is_asyclic(adj):\n",
    "    for start in adj:\n",
    "        if bfs_has_cycle(adj, start):\n",
    "            return False \n",
    "    return True\n",
    "\n",
    "assert not is_asyclic({1: {2}, 2: {3}, 3: {1}})\n",
    "assert is_asyclic({1: {2}, 2: {3}, 3: {4, 5}})"
   ]
  },
  {
   "cell_type": "markdown",
   "metadata": {},
   "source": [
    "29. Даны `N` процессов. Каждый процесс может быть запущен сразу, а может быть только после выполнения некоторого количества предыдущих процессов. Список зависимостей дан в списке `depend`. `depend[i]` - список процессов, от которых зависит процесс `i`. Найти порядок, в котором необходимо выполнять процессы, чтобы зависимый процесс начинался после выполнения предыдущих. Если таких порядков несколько, верните любой. Гарантируется, что существует хотя бы один процесс, который не имеет зависимостей."
   ]
  },
  {
   "cell_type": "code",
   "execution_count": null,
   "metadata": {},
   "outputs": [
    {
     "data": {
      "text/plain": [
       "[5, 2, 3, 4, 1, 0]"
      ]
     },
     "execution_count": 7,
     "metadata": {},
     "output_type": "execute_result"
    }
   ],
   "source": [
    "from collections import deque\n",
    "\n",
    "def bfs_has_cycle(adj, start):\n",
    "    visited = {start}\n",
    "    queue = deque([start])\n",
    "\n",
    "    while queue:\n",
    "        node = queue.popleft()\n",
    "        for neighbor in adj.get(node, []):\n",
    "            if neighbor in visited:\n",
    "                return True\n",
    "            visited.add(neighbor)\n",
    "            queue.append(neighbor)\n",
    "    return False\n",
    "\n",
    "def is_asyclic(adj):\n",
    "    for start in adj:\n",
    "        if bfs_has_cycle(adj, start):\n",
    "            return False \n",
    "    return True\n",
    "\n",
    "\n",
    "def topological_sort(adj): # source: https://ru.algorithmica.org/cs/graph-traversals/topological-sorting/?ysclid=lqp83ys8q1434368187\n",
    "    if not is_asyclic(adj):\n",
    "        raise ValueError('graph must be asyclic in order to have a topological sorting')\n",
    "    visited = set()\n",
    "    topo_order = [] \n",
    "    def dfs(a):\n",
    "        visited.add(a)\n",
    "        for b in adj.get(a, []):\n",
    "            if b not in visited:\n",
    "                dfs(b) \n",
    "        topo_order.append(a)\n",
    "    for a in adj:\n",
    "        if a not in visited:\n",
    "            dfs(a)\n",
    "    return topo_order[::-1]\n",
    "\n",
    "\n",
    "def inverse_adj(adj):\n",
    "    inv = {} \n",
    "    for a, neighbors in adj.items():\n",
    "        for b in neighbors:\n",
    "            if b not in inv:\n",
    "                inv[b] = set() \n",
    "            inv[b].add(a)\n",
    "    return inv\n",
    "\n",
    "def order_processes(depend):\n",
    "    return topological_sort(inverse_adj(depend))\n",
    "\n",
    "order_processes({5: {}, 4: {}, 0: {4, 5}, 2: {5}, 1: {3, 4}, 3: {2}})"
   ]
  },
  {
   "cell_type": "markdown",
   "metadata": {},
   "source": [
    "30. Дана система двусторонних дорог. N-периферией называется множество городов, расстояние от которых до выделенного города (столицы) больше N. Для данного N определите N-периферию."
   ]
  },
  {
   "cell_type": "code",
   "execution_count": null,
   "metadata": {},
   "outputs": [
    {
     "data": {
      "text/plain": [
       "[3]"
      ]
     },
     "execution_count": 9,
     "metadata": {},
     "output_type": "execute_result"
    }
   ],
   "source": [
    "# ejudge: https://informatics.msk.ru/mod/statements/view.php?id=46422&chapterid=5#1\n",
    "\n",
    "def deijkstra(N, adj, start):\n",
    "    dist = [float('inf')]*N\n",
    "    dist[start] = 0 \n",
    "    visited = set()\n",
    "    while len(visited) != N:\n",
    "        curr = min(set(range(N)) - visited, key=dist.__getitem__)\n",
    "        for neighbor, length in adj[curr]:\n",
    "            new_dist = dist[curr] + length\n",
    "            if new_dist < dist[neighbor]:\n",
    "                dist[neighbor] = new_dist \n",
    "        visited.add(curr)\n",
    "    return dist \n",
    "\n",
    "def n_periphery(adj, start, N):\n",
    "    dist = deijkstra(len(adj), adj, start)\n",
    "    return [city for city in range(len(adj)) if dist[city] > N]\n",
    "\n",
    "adj = [\n",
    "    [(1, 2), (2, 4)],       # Вершина 0 связана с вершинами 1 и 2 длиной 2 и 4\n",
    "    [(0, 2), (2, 1), (3, 5)],  # Вершина 1 связана с вершинами 0, 2 и 3 длиной 2, 1 и 5\n",
    "    [(0, 4), (1, 1), (3, 3)],  # Вершина 2 связана с вершинами 0, 1 и 3 длиной 4, 1 и 3\n",
    "    [(0, 1), (1, 5), (2, 3)]   # Вершина 3 связана с вершинами 0, 1 и 2 длиной 1, 5 и 3\n",
    "]\n",
    "start = 0  \n",
    "N = 5 \n",
    "\n",
    "n_periphery(adj, 0, 5)\n"
   ]
  },
  {
   "cell_type": "markdown",
   "metadata": {},
   "source": [
    "31. Система двусторонних дорог такова, что для любой пары городов можно указать соединяющий их путь. Найдите такой город, сумма расстояний от которого до остальных городов минимальна."
   ]
  },
  {
   "cell_type": "code",
   "execution_count": null,
   "metadata": {},
   "outputs": [
    {
     "data": {
      "text/plain": [
       "0"
      ]
     },
     "execution_count": 12,
     "metadata": {},
     "output_type": "execute_result"
    }
   ],
   "source": [
    "def find_city_with_min_sum_distances(adj):\n",
    "    n = len(adj)\n",
    "    INF = float('inf')\n",
    "    for k in range(n):\n",
    "        for i in range(n):\n",
    "            for j in range(n):\n",
    "                adj[i][j] = min(adj[i][j], adj[i][k] + adj[k][j])\n",
    "\n",
    "    min_sum = INF\n",
    "    city = -1\n",
    "    for i in range(n):\n",
    "        sum_distances = sum(adj[i][j] for j in range(n) if i != j)\n",
    "        if sum_distances < min_sum:\n",
    "            min_sum = sum_distances\n",
    "            city = i\n",
    "    return city\n",
    "\n",
    "\n",
    "# Пример использования\n",
    "adj_matrix = [\n",
    "    [0, 2, 4, 1],\n",
    "    [2, 0, 1, 5],\n",
    "    [4, 1, 0, 3],\n",
    "    [1, 5, 3, 0]\n",
    "]\n",
    "\n",
    "find_city_with_min_sum_distances(adj_matrix)"
   ]
  },
  {
   "cell_type": "markdown",
   "metadata": {},
   "source": [
    "32. За проезд по каждой дороге взымается некоторая пошлина. Найдите путь из города А в город B с минимальной величиной S+P, где S - сумма длин дорог пути, а P - сумма пошлин проезжаемых дорог."
   ]
  },
  {
   "cell_type": "code",
   "execution_count": null,
   "metadata": {},
   "outputs": [
    {
     "name": "stdout",
     "output_type": "stream",
     "text": [
      "Минимальная общая длина пути от вершины 0 до вершины 2 с учетом налога: 7\n"
     ]
    }
   ],
   "source": [
    "def deijkstra(N, adj, start):\n",
    "    dist = [float('inf')]*N\n",
    "    dist[start] = 0 \n",
    "    visited = set()\n",
    "    while len(visited) != N:\n",
    "        curr = min(set(range(N)) - visited, key=dist.__getitem__)\n",
    "        for neighbor, length in adj[curr]:\n",
    "            new_dist = dist[curr] + length\n",
    "            if new_dist < dist[neighbor]:\n",
    "                dist[neighbor] = new_dist \n",
    "        visited.add(curr)\n",
    "    return dist \n",
    "\n",
    "\n",
    "def edges_to_adj(edges):\n",
    "    adj = {} \n",
    "    for a, b, length, tax in edges:\n",
    "        if a not in adj:\n",
    "            adj[a] = set()\n",
    "        total_length = length + tax \n",
    "        adj[a].add((b, total_length))\n",
    "        if b not in adj:\n",
    "            adj[b] = set()\n",
    "    return adj\n",
    "\n",
    "\n",
    "def get_min_total(edges, a, b):\n",
    "    adj = edges_to_adj(edges) \n",
    "    dist = deijkstra(len(adj), adj, a)\n",
    "    return dist[b] \n",
    "\n",
    "\n",
    "# Предположим, у нас есть список ребер:\n",
    "edges = [(0, 1, 2, 1), (1, 2, 3, 2), (0, 2, 5, 2)]  # (начальная вершина, конечная вершина, длина пути, налог)\n",
    "a = 0  # Начальная вершина\n",
    "b = 2  # Конечная вершина\n",
    "\n",
    "min_total_length = get_min_total(edges, a, b)\n",
    "print(\"Минимальная общая длина пути от вершины\", a, \"до вершины\", b, \"с учетом налога:\", min_total_length)\n",
    "\n"
   ]
  },
  {
   "cell_type": "markdown",
   "metadata": {},
   "source": [
    "33. Дан взвешенный ориентированный граф с `n` узлами и `m` ребрами. Узлы пронумерованы от `0` до `n-1`, необходимо проверить, содержит ли граф цикл отрицательного веса.\n",
    "\n",
    "    *Примечание:* `edges[i]` состоит из вершин `u`, `v` и веса."
   ]
  },
  {
   "cell_type": "code",
   "execution_count": null,
   "metadata": {},
   "outputs": [
    {
     "name": "stdout",
     "output_type": "stream",
     "text": [
      "Есть ли отрицательный весовой цикл в графе: True\n"
     ]
    }
   ],
   "source": [
    "# ejudge: https://practice.geeksforgeeks.org/problems/negative-weight-cycle3504/1 \n",
    "# source: https://habr.com/ru/companies/otus/articles/484382/\n",
    "\n",
    "def bellman_ford(v, edges, start):\n",
    "    \"\"\"Returns an array with min distances to all vertices from start.\n",
    "    If graph contains a negative weight cycle, return -1\"\"\"\n",
    "    dist = [float('inf')]*v \n",
    "    dist[start] = 0 \n",
    "    for _ in range(v-1):\n",
    "        for u, v, length in edges:\n",
    "            if dist[v] > dist[u] + length: \n",
    "                dist[v] = dist[u] + length \n",
    "    for u, v, length in edges:\n",
    "        if dist[v] > dist[u] + length: \n",
    "            return -1\n",
    "    return dist \n",
    "    \n",
    "\n",
    "class Solution:\n",
    "\tdef isNegativeWeightCycle(self, n, edges):\n",
    "\t    return (any(\n",
    "\t        bellman_ford(n, edges, start) == -1 for start in range(n)\n",
    "\t    ))\n",
    "\n",
    "n = 4\n",
    "edges = [(0, 1, 1), (1, 2, -1), (2, 3, -1), (3, 0, -1)]\n",
    "\n",
    "sol = Solution()\n",
    "result = sol.isNegativeWeightCycle(n, edges)\n",
    "print(\"Есть ли отрицательный весовой цикл в графе:\", result)"
   ]
  },
  {
   "cell_type": "markdown",
   "metadata": {},
   "source": [
    "34. Найти минимальное покрывающее дерево для заданного графа. Вывести список его ребер и суммарный вес."
   ]
  },
  {
   "cell_type": "code",
   "execution_count": null,
   "metadata": {},
   "outputs": [
    {
     "data": {
      "text/plain": [
       "([[0, 1, 1], [0, 2, 2], [0, 3, 3]], 6)"
      ]
     },
     "execution_count": 35,
     "metadata": {},
     "output_type": "execute_result"
    }
   ],
   "source": [
    "# ejudge: https://informatics.msk.ru/mod/statements/view.php?id=53495&chapterid=185#1\n",
    "class DisjSet: # source: Lection 9\n",
    "    def __init__(self, n):\n",
    "        self.rank = [1] * n\n",
    "        self.parent = [i for i in range(n)]\n",
    "\n",
    "    def find(self, x):\n",
    "        if self.parent[x] != x:\n",
    "            self.parent[x] = self.find(self.parent[x])\n",
    "        return self.parent[x]\n",
    "\n",
    "    def union(self, x, y):\n",
    "        xset = self.find(x)\n",
    "        yset = self.find(y)\n",
    "        if xset == yset:\n",
    "            return\n",
    "        if self.rank[xset] < self.rank[yset]:\n",
    "            self.parent[xset] = yset\n",
    "        elif self.rank[xset] > self.rank[yset]:\n",
    "            self.parent[yset] = xset\n",
    "        else:\n",
    "            self.parent[yset] = xset\n",
    "            self.rank[xset] = self.rank[xset] + 1\n",
    "\n",
    "    \n",
    "def kruskalMST(n, edges):\n",
    "    disj_set = DisjSet(n)\n",
    "    edges = sorted(edges, reverse=True, key=lambda e: e[2])\n",
    "    n_included = 0\n",
    "    result = []\n",
    "    while n_included < n - 1:\n",
    "        a, b, w = edges.pop() \n",
    "        if disj_set.find(a) != disj_set.find(b):\n",
    "            n_included += 1\n",
    "            result.append([a, b, w])\n",
    "            disj_set.union(a, b)\n",
    "    return result, sum(map(lambda e: e[2], result))\n",
    "\n",
    "\n",
    "n = 4\n",
    "edges = [(0, 1, 1), (0, 2, 2), (0, 3, 3), (1, 2, 3), (2, 3, 4)]\n",
    "\n",
    "minimum_spanning_tree, total_weight = kruskalMST(n, edges)\n",
    "\n",
    "print(\"Минимальное остовное дерево:\", minimum_spanning_tree)\n",
    "print(\"Общий вес минимального остовного дерева:\", total_weight)"
   ]
  },
  {
   "cell_type": "markdown",
   "metadata": {},
   "source": [
    "35. В неориентированный взвешенный граф добавляют ребра. Напишите программу, которая, после добавления ребер, находит сумму весов ребер в компоненте связности.\n",
    "\n",
    "    На вход подаются два числа `n` и `m` - количество вершин в графе и количество производимых добавлений и запросов. Далее следует список `add` из m строк. Каждая строка состоит из трех чисел `x, y, w`. Это означает, что в граф добавляется ребро из вершины x в вершину y веса w. Кратные ребра допустимы. И число `A` - вершина, для компоненты связности которой необходимо найти суммарный вес ребер."
   ]
  },
  {
   "cell_type": "code",
   "execution_count": 34,
   "metadata": {},
   "outputs": [],
   "source": [
    "# ejudge: https://informatics.msk.ru/mod/statements/view.php?chapterid=1376#1\n",
    "\n",
    "# простое решение за O(n^2)\n",
    "# на информатиксе не проходит последние три теста по времени. \n",
    "# n, ops = map(int, input().split()) \n",
    "\n",
    "# component = [0]*n # key is vertex number, value is its component number \n",
    "# size = [0]*n # key is component number, value is sum of its members\n",
    "# for i in range(n):\n",
    "#     component[i] = i # currently all vertexes are separated (there is no edges), so each vertex has its own component\n",
    "#     size[i] = 0 # no edges, so sum is zero\n",
    "\n",
    "# for _ in range(ops):\n",
    "#     query = [int(q) for q in input().split()]\n",
    "#     op, args = query[0], query[1:] \n",
    "#     if op == 2:\n",
    "#         x = args[0] - 1\n",
    "#         print(size[component[x]])\n",
    "#         continue \n",
    "#     x, y, w = args\n",
    "#     x -= 1 \n",
    "#     y -= 1\n",
    "#     comp_x, comp_y = component[x], component[y]  \n",
    "#     if comp_x == comp_y:\n",
    "#         size[comp_x] += w \n",
    "#         continue \n",
    "#     # these vertexes were from different components, let's now merge these components\n",
    "#     for i in range(n):\n",
    "#         if component[i] == comp_y:\n",
    "#             component[i] = comp_x\n",
    "#     size[comp_x] += w + size[comp_y]"
   ]
  },
  {
   "cell_type": "code",
   "execution_count": 50,
   "metadata": {},
   "outputs": [
    {
     "name": "stdout",
     "output_type": "stream",
     "text": [
      "Сумма весов ребер в компоненте связности вершины 2 : 11\n"
     ]
    }
   ],
   "source": [
    "class DisjSet: # source: Lection 9\n",
    "    def __init__(self, n):\n",
    "        self.rank = [1] * n\n",
    "        self.parent = [i for i in range(n)]\n",
    "        self.size = [0]*n \n",
    "\n",
    "    def find(self, x):\n",
    "        if self.parent[x] != x:\n",
    "            self.parent[x] = self.find(self.parent[x])\n",
    "        return self.parent[x]\n",
    "\n",
    "    def union(self, x, y, weight):\n",
    "        xset = self.find(x)\n",
    "        yset = self.find(y)\n",
    "        if xset == yset:\n",
    "            self.size[xset] += weight\n",
    "            return\n",
    "        if self.rank[xset] < self.rank[yset]:\n",
    "            self.size[yset] += self.size[xset] + weight\n",
    "            self.parent[xset] = yset\n",
    "        elif self.rank[xset] > self.rank[yset]:\n",
    "            self.size[xset] += self.size[yset] + weight\n",
    "            self.parent[yset] = xset\n",
    "        else:\n",
    "            self.size[xset] += self.size[yset] + weight\n",
    "            self.parent[yset] = xset\n",
    "            self.rank[xset] = self.rank[xset] + 1\n",
    "            \n",
    "def find_connected_component_weight(n, m, add, A):\n",
    "    ds = DisjSet(n)\n",
    "\n",
    "    for x, y, w in add:\n",
    "        ds.union(x, y, w)\n",
    "\n",
    "    component_root = ds.find(A)\n",
    "    return ds.size[component_root]\n",
    "\n",
    "# Пример использования\n",
    "n = 5  # Количество вершин\n",
    "m = 4  # Количество добавлений\n",
    "add = [(0, 1, 2), (1, 2, 3), (3, 4, 5), (0, 4, 1)]  # Добавленные ребра (вершина1, вершина2, вес)\n",
    "A = 2  # Вершина для запроса\n",
    "\n",
    "# Получение суммы весов ребер в компоненте связности\n",
    "result = find_connected_component_weight(n, m, add, A)\n",
    "print(\"Сумма весов ребер в компоненте связности вершины\", A, \":\", result)\n"
   ]
  },
  {
   "cell_type": "markdown",
   "metadata": {},
   "source": [
    "36. Дан граф представляющий собой транспортную сеть с N вершина пронумерованными 1 до N и M ребрами. Найти максимальный поток из вершины 1 до вершины N."
   ]
  },
  {
   "cell_type": "code",
   "execution_count": 52,
   "metadata": {},
   "outputs": [
    {
     "name": "stdout",
     "output_type": "stream",
     "text": [
      "Максимальный поток: 23\n"
     ]
    }
   ],
   "source": [
    "class Graph:\n",
    "    def __init__(self, graph):\n",
    "        self.graph = graph\n",
    "        self. ROW = len(graph)\n",
    "        \n",
    "    def BFS(self, s, t, parent):\n",
    "        visited = [False]*(self.ROW)\n",
    "        queue = []\n",
    "        queue.append(s)\n",
    "        visited[s] = True\n",
    "        while queue:\n",
    "            u = queue.pop(0)\n",
    "            for ind, val in enumerate(self.graph[u]):\n",
    "                if visited[ind] == False and val > 0:\n",
    "                    queue.append(ind)\n",
    "                    visited[ind] = True\n",
    "                    parent[ind] = u\n",
    "                    if ind == t:\n",
    "                        return True\n",
    "        return False\n",
    "\n",
    "    def FordFulkerson(self, source, sink):\n",
    "        parent = [-1]*(self.ROW)\n",
    "        max_flow = 0\n",
    "        while self.BFS(source, sink, parent):\n",
    "            path_flow = float(\"Inf\")\n",
    "            s = sink\n",
    "            while s != source:\n",
    "                path_flow = min(path_flow, self.graph[parent[s]][s])\n",
    "                s = parent[s]\n",
    "            max_flow += path_flow\n",
    "            \n",
    "            v = sink\n",
    "            while v != source:\n",
    "                u = parent[v]\n",
    "                self.graph[u][v] -= path_flow\n",
    "                self.graph[v][u] += path_flow\n",
    "                v = parent[v]\n",
    "        return max_flow\n",
    "    \n",
    "# Создание графа (ребра представлены матрицей смежности)\n",
    "graph = [[0, 16, 13, 0, 0, 0],\n",
    "         [0, 0, 10, 12, 0, 0],\n",
    "         [0, 4, 0, 0, 14, 0],\n",
    "         [0, 0, 9, 0, 0, 20],\n",
    "         [0, 0, 0, 7, 0, 4],\n",
    "         [0, 0, 0, 0, 0, 0]]\n",
    "\n",
    "max_flow_graph = Graph(graph)\n",
    "source, sink = 0, 5  # Задаем источник и сток\n",
    "max_flow = max_flow_graph.FordFulkerson(source, sink)\n",
    "print(\"Максимальный поток:\", max_flow)\n"
   ]
  },
  {
   "cell_type": "markdown",
   "metadata": {},
   "source": [
    "37. Дано бинарное дерево. Выполнить прямой/центрированный/обратный/уровневый обход дерева."
   ]
  },
  {
   "cell_type": "code",
   "execution_count": 8,
   "metadata": {},
   "outputs": [
    {
     "name": "stdout",
     "output_type": "stream",
     "text": [
      "FBADCEGIH\n",
      "ABCDEFGHI\n",
      "ACEDBHIGF\n",
      "FBGADICEH"
     ]
    }
   ],
   "source": [
    "# source: https://ru.wikipedia.org/wiki/Обход_дерева\n",
    "from collections import deque \n",
    "\n",
    "class Node:\n",
    "    def __init__(self, val, left=None, right=None):\n",
    "        self.val = val \n",
    "        self.left = left \n",
    "        self.right = right \n",
    "    def __str__(self):\n",
    "        return f'Value: {self.val}\\nLeft: {self.left}\\nRight: {self.right}'\n",
    "\n",
    "def nlr(node): # прямой \n",
    "    if node is None: return \n",
    "    print(node.val, end='')\n",
    "    nlr(node.left)\n",
    "    nlr(node.right)\n",
    "\n",
    "def lnr(node): # центрированный \n",
    "    if node is None: return \n",
    "    lnr(node.left)\n",
    "    print(node.val, end='')\n",
    "    lnr(node.right) \n",
    "\n",
    "def lrn(node): # обратный \n",
    "    if node is None: return \n",
    "    lrn(node.left)\n",
    "    lrn(node.right)\n",
    "    print(node.val, end='')\n",
    "\n",
    "def dfs_level(root): # уровневый, через обход в ширину \n",
    "    queue = deque([root])\n",
    "    while queue:\n",
    "        node = queue.popleft()\n",
    "        if node is None: continue \n",
    "        print(node.val, end='')\n",
    "        queue.append(node.left) \n",
    "        queue.append(node.right)\n",
    "\n",
    "\n",
    "t = Node('F', Node('B', Node('A'), Node('D', Node('C'), Node('E'))), Node('G', None, Node('I', Node('H'), None)))\n",
    "nlr(t)\n",
    "print()\n",
    "lnr(t)\n",
    "print()\n",
    "lrn(t)\n",
    "print() \n",
    "dfs_level(t)"
   ]
  },
  {
   "cell_type": "markdown",
   "metadata": {},
   "source": [
    "38. Дано бинарное дерево. Проверить является ли данное дерево сбалансированным."
   ]
  },
  {
   "cell_type": "code",
   "execution_count": 1,
   "metadata": {},
   "outputs": [],
   "source": [
    "class Node:\n",
    "    def __init__(self, val, left, right):\n",
    "        self.val = val \n",
    "        self.left = left \n",
    "        self.right = right \n",
    "    def __str__(self):\n",
    "        return f'Value: {self.val}\\nLeft: {self.left}\\nRight: {self.right}'\n",
    "\n",
    "def bin_tree_height(root) -> int: # from task #40\n",
    "    if root is None: \n",
    "        return 0\n",
    "    return 1 + max(bin_tree_height(root.left), bin_tree_height(root.right))\n",
    "\n",
    "def is_balanced_bin_tree(root) -> bool:\n",
    "    if root is None: \n",
    "        return True\n",
    "    return abs(bin_tree_height(root.left) - bin_tree_height(root.right)) <= 1\n",
    "\n",
    "t1 = Node(1, Node(1, None, None), Node(1, None, None))\n",
    "assert is_balanced_bin_tree(t1) == True\n",
    "t2 = Node(1, t1, t1)\n",
    "assert is_balanced_bin_tree(t2) == True\n",
    "t3 = Node(1, t1, None) \n",
    "assert is_balanced_bin_tree(t3) == False\n",
    "t4 = Node(1, t3, t1)\n",
    "assert is_balanced_bin_tree(t4) == True\n",
    "t5 = Node(1, t4, t1) \n",
    "assert is_balanced_bin_tree(t5) == False"
   ]
  },
  {
   "cell_type": "markdown",
   "metadata": {},
   "source": [
    "39. Дано бинарное дерево. Проверить является ли данное дерево бинарным деревом поиска."
   ]
  },
  {
   "cell_type": "code",
   "execution_count": 70,
   "metadata": {},
   "outputs": [],
   "source": [
    "# ejudge: https://www.geeksforgeeks.org/problems/check-for-bst/1?utm_source=geeksforgeeks&utm_medium=article_practice_tab&utm_campaign=article_practice_tab\n",
    "def isBST(root, less=float('inf'), greater=float('-inf')):\n",
    "    if root is None:\n",
    "        return True \n",
    "    if not (greater <= root.data < less):\n",
    "        return False\n",
    "    return isBST(root.left, root.data, greater) and isBST(root.right, less, root.data)\n",
    "\n",
    "class Solution:\n",
    "    def isBST(self, root):\n",
    "        return isBST(root)"
   ]
  },
  {
   "cell_type": "markdown",
   "metadata": {},
   "source": [
    "40. Дано бинарное дерево. Найти высоту дерева."
   ]
  },
  {
   "cell_type": "code",
   "execution_count": 2,
   "metadata": {},
   "outputs": [],
   "source": [
    "class Node:\n",
    "    def __init__(self, val, left, right):\n",
    "        self.val = val \n",
    "        self.left = left \n",
    "        self.right = right \n",
    "    def __str__(self):\n",
    "        return f'Value: {self.val}\\nLeft: {self.left}\\nRight: {self.right}'\n",
    "\n",
    "def bin_tree_height(root) -> int:\n",
    "    if root is None: \n",
    "        return 0\n",
    "    return 1 + max(bin_tree_height(root.left), bin_tree_height(root.right))\n",
    "\n",
    "t1 = Node(5, Node(6, None, None), Node(7, None, None))\n",
    "assert bin_tree_height(t1) == 2 \n",
    "t2 = Node(5, Node(6, Node(7, Node(8, Node(9, None, None), None), None, ), None), None)\n",
    "assert bin_tree_height(t2) == 5 \n",
    "t3 = Node(5, Node(6, Node(7, Node(8, Node(9, None, None), None), None), None), t2)\n",
    "assert bin_tree_height(t3) == 6 \n",
    "t4 = Node(5, Node(6, Node(7, t3, t3), None), t3)\n",
    "assert bin_tree_height(t4) == 9"
   ]
  },
  {
   "cell_type": "markdown",
   "metadata": {},
   "source": [
    "41. Дано бинарное дерево. Найти ширину дерева."
   ]
  },
  {
   "cell_type": "code",
   "execution_count": null,
   "metadata": {},
   "outputs": [],
   "source": [
    "# ejudge: https://www.geeksforgeeks.org/problems/maximum-width-of-tree/1?itm_source=geeksforgeeks&itm_medium=article&itm_campaign=bottom_sticky_on_article\n",
    "def get_max_width(root):\n",
    "    max_width = 0        \n",
    "    level = [root]\n",
    "    while level:\n",
    "        max_width = max(max_width, len(level))\n",
    "        new_level = [] \n",
    "        while level:\n",
    "            node = level.pop()\n",
    "            if node.right is not None:\n",
    "                new_level.append(node.right)\n",
    "            if node.left is not None:\n",
    "                new_level.append(node.left)\n",
    "        level = new_level[::-1]\n",
    "    return max_width"
   ]
  },
  {
   "cell_type": "markdown",
   "metadata": {},
   "source": [
    "42. Дано бинарное дерево поиска. Реализовать функцию поиска/вставки/удаления узла."
   ]
  },
  {
   "cell_type": "code",
   "execution_count": null,
   "metadata": {},
   "outputs": [],
   "source": [
    "def find(node, x):\n",
    "    if node is None: \n",
    "        return False \n",
    "    if node.val == x: \n",
    "        return True \n",
    "    return find(node.left, x) if x < node.val else find(node.right, x) \n",
    "\n",
    "def insert(node, x):\n",
    "    if x <= node.val:\n",
    "        if node.left is None: \n",
    "            node.left = x \n",
    "        else: \n",
    "            insert(node.left, x) \n",
    "    else:\n",
    "        if node.right is None:\n",
    "            node.right = x \n",
    "        else: \n",
    "            insert(node.right, x)\n",
    "\n",
    "def delete(node, x):\n",
    "    if node is None: \n",
    "        return None \n",
    "    if x < node.val:\n",
    "        node.left = delete(node.left, x) \n",
    "        return\n",
    "    elif x > node.val:\n",
    "        node.right = delete(node.right, x)\n",
    "        return\n",
    "    if node.left is None: \n",
    "        temp = root.right \n",
    "        root = None \n",
    "        return temp \n",
    "    elif node.right is None: \n",
    "        temp = root.left \n",
    "        root = None \n",
    "        return temp \n",
    "    # complex case: we need to remove a node that has 2 children \n",
    "    # search for next bigger element, place its value in place of current node, delete its previous location\n",
    "    next = root.right\n",
    "    while next.left is not None:\n",
    "        next = next.left \n",
    "    node.val = next.val \n",
    "    node.right = delete(node.right, node.val)"
   ]
  },
  {
   "cell_type": "markdown",
   "metadata": {},
   "source": [
    "43. Дано бинарное дерево. Выполнить прямой/центрированный/обратный обход дерева не используя рекурсию."
   ]
  },
  {
   "cell_type": "code",
   "execution_count": 19,
   "metadata": {},
   "outputs": [
    {
     "name": "stdout",
     "output_type": "stream",
     "text": [
      "FBADCEGIH\n",
      "ABCDEFGHI\n",
      "ACEDBHIGF"
     ]
    }
   ],
   "source": [
    "class Node:\n",
    "    def __init__(self, val, left=None, right=None):\n",
    "        self.val = val \n",
    "        self.left = left \n",
    "        self.right = right \n",
    "    def __str__(self):\n",
    "        return f'Value: {self.val}\\nLeft: {self.left}\\nRight: {self.right}'\n",
    "\n",
    "def nlr(node): # прямой \n",
    "    if node is None: return \n",
    "    stack = [node] \n",
    "    while stack: \n",
    "        node = stack.pop() \n",
    "        if node.right is not None:\n",
    "            stack.append(node.right)\n",
    "        if node.left is not None:\n",
    "            stack.append(node.left)\n",
    "        if not node.left and not node.right:\n",
    "            print(node.val, end='')\n",
    "        else: \n",
    "            stack.append(Node(node.val))\n",
    "\n",
    "def lnr(node): # центрированный \n",
    "    if node is None: return \n",
    "    stack = [node] \n",
    "    while stack: \n",
    "        node = stack.pop() \n",
    "        if node.right is not None:\n",
    "            stack.append(node.right)\n",
    "        if not node.left and not node.right:\n",
    "            print(node.val, end='')\n",
    "        else:\n",
    "            stack.append(Node(node.val))\n",
    "        if node.left is not None:\n",
    "            stack.append(node.left)\n",
    "\n",
    "def lrn(node): # обратный \n",
    "    stack = [node] \n",
    "    while stack: \n",
    "        node = stack.pop() \n",
    "        if not node.left and not node.right:\n",
    "            print(node.val, end='')\n",
    "        else:\n",
    "            stack.append(Node(node.val))\n",
    "        if node.right is not None:\n",
    "            stack.append(node.right)\n",
    "        if node.left is not None:\n",
    "            stack.append(node.left)\n",
    "\n",
    "t = Node('F', Node('B', Node('A'), Node('D', Node('C'), Node('E'))), Node('G', None, Node('I', Node('H'), None)))\n",
    "nlr(t)\n",
    "print()\n",
    "lnr(t)\n",
    "print()\n",
    "lrn(t)"
   ]
  },
  {
   "cell_type": "markdown",
   "metadata": {},
   "source": [
    "44. Дано бинарное дерево поиска. Найти все тупиковые узлы. Под тупиковым узлом понимается узел, добавление потомков к которому невозможно."
   ]
  },
  {
   "cell_type": "code",
   "execution_count": null,
   "metadata": {},
   "outputs": [],
   "source": [
    "# ejudge: https://practice.geeksforgeeks.org/problems/check-whether-bst-contains-dead-end/1?utm_source=geeksforgeeks&utm_medium=article_practice_tab&utm_campaign=article_practice_tab\n",
    "class Solution:\n",
    "    def isDeadEnd(self, root):\n",
    "        deadends = [] \n",
    "        def dfs(a, smaller, greater):\n",
    "            if a is None:\n",
    "                return \n",
    "            if a.data - 1 == greater and a.data + 1 == smaller:\n",
    "                deadends.append(a.data)\n",
    "            dfs(a.left, a.data, greater)\n",
    "            dfs(a.right, smaller, a.data)\n",
    "        dfs(root, float('inf'), 0)\n",
    "        return deadends"
   ]
  },
  {
   "cell_type": "markdown",
   "metadata": {},
   "source": [
    "45. Дан корень бинарного дерева. Необходимо преобразовать дерево в односвязный список.\n",
    "    Список должен использовать тот же класс `Node`, правый указатель должен ссылаться на следующий элемент в списке, левый всегда `None`.\n",
    "    Список должен иметь тот же порядок, что и прямой обход бинарного дерева."
   ]
  },
  {
   "cell_type": "code",
   "execution_count": 6,
   "metadata": {},
   "outputs": [
    {
     "ename": "TypeError",
     "evalue": "Node.__init__() takes 2 positional arguments but 4 were given",
     "output_type": "error",
     "traceback": [
      "\u001b[0;31m---------------------------------------------------------------------------\u001b[0m",
      "\u001b[0;31mTypeError\u001b[0m                                 Traceback (most recent call last)",
      "\u001b[1;32m/home/victoria/Рабочий стол/2 course/DSA_Course_Exam/Practice.ipynb Cell 95\u001b[0m line \u001b[0;36m1\n\u001b[1;32m     <a href='vscode-notebook-cell:/home/victoria/%D0%A0%D0%B0%D0%B1%D0%BE%D1%87%D0%B8%D0%B9%20%D1%81%D1%82%D0%BE%D0%BB/2%20course/DSA_Course_Exam/Practice.ipynb#Y163sZmlsZQ%3D%3D?line=14'>15</a>\u001b[0m             stack\u001b[39m.\u001b[39mappend(Node(node\u001b[39m.\u001b[39mval))\n\u001b[1;32m     <a href='vscode-notebook-cell:/home/victoria/%D0%A0%D0%B0%D0%B1%D0%BE%D1%87%D0%B8%D0%B9%20%D1%81%D1%82%D0%BE%D0%BB/2%20course/DSA_Course_Exam/Practice.ipynb#Y163sZmlsZQ%3D%3D?line=15'>16</a>\u001b[0m     \u001b[39mreturn\u001b[39;00m ll_start\u001b[39m.\u001b[39mright\n\u001b[0;32m---> <a href='vscode-notebook-cell:/home/victoria/%D0%A0%D0%B0%D0%B1%D0%BE%D1%87%D0%B8%D0%B9%20%D1%81%D1%82%D0%BE%D0%BB/2%20course/DSA_Course_Exam/Practice.ipynb#Y163sZmlsZQ%3D%3D?line=17'>18</a>\u001b[0m t \u001b[39m=\u001b[39m Node(\u001b[39m'\u001b[39m\u001b[39mF\u001b[39m\u001b[39m'\u001b[39m, Node(\u001b[39m'\u001b[39m\u001b[39mB\u001b[39m\u001b[39m'\u001b[39m, Node(\u001b[39m'\u001b[39m\u001b[39mA\u001b[39m\u001b[39m'\u001b[39m), Node(\u001b[39m'\u001b[39;49m\u001b[39mD\u001b[39;49m\u001b[39m'\u001b[39;49m, Node(\u001b[39m'\u001b[39;49m\u001b[39mC\u001b[39;49m\u001b[39m'\u001b[39;49m), Node(\u001b[39m'\u001b[39;49m\u001b[39mE\u001b[39;49m\u001b[39m'\u001b[39;49m))), Node(\u001b[39m'\u001b[39m\u001b[39mG\u001b[39m\u001b[39m'\u001b[39m, \u001b[39mNone\u001b[39;00m, Node(\u001b[39m'\u001b[39m\u001b[39mI\u001b[39m\u001b[39m'\u001b[39m, Node(\u001b[39m'\u001b[39m\u001b[39mH\u001b[39m\u001b[39m'\u001b[39m), \u001b[39mNone\u001b[39;00m)))\n\u001b[1;32m     <a href='vscode-notebook-cell:/home/victoria/%D0%A0%D0%B0%D0%B1%D0%BE%D1%87%D0%B8%D0%B9%20%D1%81%D1%82%D0%BE%D0%BB/2%20course/DSA_Course_Exam/Practice.ipynb#Y163sZmlsZQ%3D%3D?line=18'>19</a>\u001b[0m \u001b[39mprint\u001b[39m(tree_to_list(t))\n",
      "\u001b[0;31mTypeError\u001b[0m: Node.__init__() takes 2 positional arguments but 4 were given"
     ]
    }
   ],
   "source": [
    "def tree_to_list(root):\n",
    "    ll_start = Node(None, None, None)\n",
    "    ll_end = ll_start\n",
    "    stack = [root] \n",
    "    while stack: \n",
    "        node = stack.pop() \n",
    "        if node.right is not None:\n",
    "            stack.append(node.right)\n",
    "        if node.left is not None:\n",
    "            stack.append(node.left)\n",
    "        if not node.left and not node.right:\n",
    "            ll_end.right = Node(node.val, None, None)\n",
    "            ll_end = ll_end.right\n",
    "        else: \n",
    "            stack.append(Node(node.val))\n",
    "    return ll_start.right\n",
    "\n",
    "t = Node('F', Node('B', Node('A'), Node('D', Node('C'), Node('E'))), Node('G', None, Node('I', Node('H'), None)))\n",
    "print(tree_to_list(t))"
   ]
  },
  {
   "cell_type": "markdown",
   "metadata": {},
   "source": [
    "46. Дано представление полного бинарного дерева в виде списка. Необходимо построить бинарное дерево."
   ]
  },
  {
   "cell_type": "code",
   "execution_count": 11,
   "metadata": {},
   "outputs": [],
   "source": [
    "# ejudge: https://practice.geeksforgeeks.org/problems/make-binary-tree/1?utm_source=geeksforgeeks&utm_medium=article_practice_tab&utm_campaign=article_practice_tab\n",
    "from collections import deque \n",
    "class Tree:\n",
    "    def __init__(self, value):\n",
    "        self.val = value\n",
    "        self.left = None\n",
    "        self.right = None\n",
    "        \n",
    "        \n",
    "def convert(head):\n",
    "    tree = Tree(head.data)\n",
    "    level = deque([tree]) \n",
    "    while level:\n",
    "        node = level.popleft()\n",
    "        if head.next:\n",
    "            node.left = Tree(head.next.data) \n",
    "            head = head.next\n",
    "            level.append(node.left)\n",
    "        if head.next:\n",
    "            node.right = Tree(head.next.data) \n",
    "            head = head.next \n",
    "            level.append(node.right)\n",
    "    return tree\n",
    "\n",
    "\n"
   ]
  },
  {
   "cell_type": "markdown",
   "metadata": {},
   "source": [
    "47. Дано бинарное дерево поиска с целочисленными ключами. Найти преемника и предшественника данного ключа `key`. Если какого-то значения не существует, верните вместо него `None`.\n",
    "\n",
    "    *Примечание:* преемник и предшественник - ближайшие значения после и до указанного ключа."
   ]
  },
  {
   "cell_type": "code",
   "execution_count": 15,
   "metadata": {},
   "outputs": [],
   "source": [
    "# ejudge and source: https://practice.geeksforgeeks.org/problems/predecessor-and-successor/1?utm_source=geeksforgeeks&utm_medium=ml_article_practice_tab&utm_campaign=article_practice_tab\n",
    "def get_pre_suc(root, key):\n",
    "    pre, suc = Node(-1), Node(-1)\n",
    "    while root:\n",
    "        if root.key == key:\n",
    "            if root.left:\n",
    "                pre = root.left\n",
    "                while pre.right:\n",
    "                    pre = pre.right\n",
    "            if root.right:\n",
    "                suc = root.right\n",
    "                while suc.left:\n",
    "                    suc = suc.left\n",
    "            return pre, suc\n",
    "\n",
    "        if root.key > key:\n",
    "            suc = root\n",
    "            root = root.left\n",
    "        else:\n",
    "            pre = root\n",
    "            root = root.right\n",
    "    return pre, suc\n",
    "\n",
    "class Solution:\n",
    "   def findPreSuc(self, root, pre, suc, key):\n",
    "        got_pre, got_suc = get_pre_suc(root, key)\n",
    "        pre.key, suc.key = got_pre.key, got_suc.key\n"
   ]
  },
  {
   "cell_type": "markdown",
   "metadata": {},
   "source": [
    "48. Найти Z-функцию для строки."
   ]
  },
  {
   "cell_type": "code",
   "execution_count": null,
   "metadata": {},
   "outputs": [],
   "source": [
    "# ejudge: https://informatics.msk.ru/mod/statements/view3.php?chapterid=1324#1 \n",
    "# source: https://personal.utdallas.edu/~besp/demo/John2010/z-algorithm.htm\n",
    "def z_func(s):\n",
    "    n = len(s)\n",
    "    z = [0]*n\n",
    "    z[0] = n\n",
    "    l, r = 0, 0 \n",
    "    for i in range(1, n):\n",
    "        if i <= r and z[i-l] < r-i+1: # string is inside previously matched substring and its fully cached\n",
    "            z[i] = z[i-l]\n",
    "            continue\n",
    "        # brute force \n",
    "        l = i \n",
    "        if i > r: # if i is not even inside previous substring, start from scratch\n",
    "            r = l-1\n",
    "        while r+1 < n and s[r+1] == s[r+1-l]:\n",
    "            r += 1 \n",
    "        z[i] = r-l+1\n",
    "    return z\n",
    "\n",
    "# s = input() \n",
    "# print(*z_func(s))"
   ]
  },
  {
   "cell_type": "markdown",
   "metadata": {},
   "source": [
    "49. Найти префикс-функцию для строки."
   ]
  },
  {
   "cell_type": "code",
   "execution_count": null,
   "metadata": {},
   "outputs": [],
   "source": [
    "\n",
    "# ejudge: https://informatics.msk.ru/mod/statements/view.php?id=241&chapterid=1323#1\n",
    "# source: https://www.youtube.com/watch?v=rEPggzaPoUw\n",
    "def prefix(s):\n",
    "    n = len(s)\n",
    "    pref = [0]*n \n",
    "    for i in range(1, n):\n",
    "        p = pref[i-1]\n",
    "        while p > 0 and s[p] != s[i]:\n",
    "            p = pref[p - 1] \n",
    "        if s[p] == s[i]:\n",
    "           p += 1\n",
    "        pref[i] = p\n",
    "    return pref\n",
    "\n",
    "# s = input() \n",
    "# print(*prefix(s))"
   ]
  },
  {
   "cell_type": "markdown",
   "metadata": {},
   "source": [
    "50. Реализовать полиномиальную хеш-функцию для строк."
   ]
  },
  {
   "cell_type": "code",
   "execution_count": 3,
   "metadata": {},
   "outputs": [
    {
     "name": "stdout",
     "output_type": "stream",
     "text": [
      "670135846\n",
      "2072265002\n"
     ]
    }
   ],
   "source": [
    "# source: https://www.geeksforgeeks.org/string-hashing-using-polynomial-rolling-hash-function/\n",
    "def hash_str(s, p=31, m=2**32):\n",
    "    hash = 0\n",
    "    p_pow = 1\n",
    "    for i in range(len(s)):\n",
    "        hash = (hash + (1 + ord(s[i]) - ord('a')) * p_pow) % m\n",
    "        p_pow = (p_pow * p) % m\n",
    "    return hash\n",
    "\n",
    "print(hash_str('abracadabra'))\n",
    "print(hash_str('abracadabre'))"
   ]
  },
  {
   "cell_type": "markdown",
   "metadata": {},
   "source": [
    "51. Найти и вернуть все индексы начала вхождения строки `pat` в строку `text`."
   ]
  },
  {
   "cell_type": "code",
   "execution_count": null,
   "metadata": {},
   "outputs": [],
   "source": [
    "# ejudge: https://informatics.msk.ru/mod/statements/view.php?id=32914#1\n",
    "def find_substr(text, pat):\n",
    "    n = len(text)\n",
    "    m = len(pat)\n",
    "    matches = [] \n",
    "    z = z_func(pat+'#'+text) \n",
    "    for i in range(len(text)):\n",
    "        if z[i+m+1] == m:\n",
    "            matches.append(i)\n",
    "    return matches\n",
    "\n",
    "s = input() \n",
    "pat = input() \n",
    "print(*find_substr(s, pat))"
   ]
  },
  {
   "cell_type": "markdown",
   "metadata": {},
   "source": [
    "52. Реализовать сортировку списка строк на основе хеширования."
   ]
  }
 ],
 "metadata": {
  "kernelspec": {
   "display_name": "Python 3",
   "language": "python",
   "name": "python3"
  },
  "language_info": {
   "codemirror_mode": {
    "name": "ipython",
    "version": 3
   },
   "file_extension": ".py",
   "mimetype": "text/x-python",
   "name": "python",
   "nbconvert_exporter": "python",
   "pygments_lexer": "ipython3",
   "version": "3.11.8"
  }
 },
 "nbformat": 4,
 "nbformat_minor": 2
}
